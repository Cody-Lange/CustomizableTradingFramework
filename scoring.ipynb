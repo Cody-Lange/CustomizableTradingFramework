{
 "cells": [
  {
   "cell_type": "markdown",
   "metadata": {},
   "source": [
    "# Customizable Trading Framework for Top-Down Analysis, Strategy Testing, and Watchlist Monitoring Using Pandas TA and VectorBt\n",
    "\n",
    "- Setup & Configuration\n",
    "- Watchlist \n",
    "- Data Extraction via Polygon API\n",
    "- Framework Creation\n",
    "- Signal Groupings and Signals\n",
    "- Evaluation \n",
    "- Backtesting"
   ]
  },
  {
   "cell_type": "markdown",
   "metadata": {},
   "source": [
    "# Setup & Configuration"
   ]
  },
  {
   "cell_type": "code",
   "execution_count": 1,
   "metadata": {},
   "outputs": [],
   "source": [
    "# Import necessary packages\n",
    "import pandas as pd\n",
    "from watchlist import Watchlist, WatchlistItem\n",
    "from data_extract import FetchData\n",
    "from framework import TradingFramework\n",
    "import pandas_ta as ta\n",
    "from signals import Signal, SignalGroup, generate_signal_score"
   ]
  },
  {
   "cell_type": "markdown",
   "metadata": {},
   "source": [
    "# Watchlist "
   ]
  },
  {
   "cell_type": "code",
   "execution_count": 2,
   "metadata": {},
   "outputs": [
    {
     "name": "stdout",
     "output_type": "stream",
     "text": [
      "Adding GOOGL to watchlist\n",
      "Adding X:BTCUSD to watchlist\n",
      "Updating price for GOOGL\n",
      "Updating price for X:BTCUSD\n",
      "Google (GOOGL) - Stock: Current Price: 150.66, Framework Overall Status: None, Backtest P&L%: None\n",
      "Bitcoin (X:BTCUSD) - Crypto: Current Price: 66773.97, Framework Overall Status: None, Backtest P&L%: None\n"
     ]
    }
   ],
   "source": [
    "# Example usage:\n",
    "api_key = \"[REDACTED]\"\n",
    "watchlist = Watchlist(api_key)\n",
    "watchlist.add_item(name=\"Google\", ticker=\"GOOGL\", asset_type=\"Stock\")\n",
    "watchlist.add_item(name=\"Bitcoin\", ticker=\"X:BTCUSD\", asset_type=\"Crypto\")\n",
    "watchlist.update_prices()\n",
    "watchlist.show()"
   ]
  },
  {
   "cell_type": "markdown",
   "metadata": {},
   "source": [
    "# Data Extract"
   ]
  },
  {
   "cell_type": "code",
   "execution_count": 3,
   "metadata": {},
   "outputs": [],
   "source": [
    "# Instantiate Fetcher\n",
    "api_key = \"[REDACTED]\"\n",
    "\n",
    "fetcher = FetchData(api_key=api_key)"
   ]
  },
  {
   "cell_type": "code",
   "execution_count": 4,
   "metadata": {},
   "outputs": [
    {
     "name": "stdout",
     "output_type": "stream",
     "text": [
      "Fetching 30 minute data for ticker GOOGL: 2024-02-19 06:10:08.781394 - 2024-03-24 23:30:08.781394\n",
      "Fetching 30 minute data for ticker GOOGL: 2024-01-15 12:49:08.781394 - 2024-02-19 06:09:08.781394\n",
      "Fetching 30 minute data for ticker GOOGL: 2023-12-11 19:28:08.781394 - 2024-01-15 12:48:08.781394\n",
      "Fetching 4 hour data for ticker GOOGL: 2024-02-19 06:10:11.232766 - 2024-03-24 23:30:11.232766\n",
      "Fetching 4 hour data for ticker GOOGL: 2024-01-15 12:49:11.232766 - 2024-02-19 06:09:11.232766\n",
      "Fetching 4 hour data for ticker GOOGL: 2023-12-11 19:28:11.232766 - 2024-01-15 12:48:11.232766\n",
      "Fetching 30 day data for ticker GOOGL: 2019-03-26 23:30:12.617246 - 2024-03-24 23:30:12.617246\n",
      "Fetching 1 week data for ticker GOOGL: 2019-03-26 23:30:12.846959 - 2024-03-24 23:30:12.846959\n",
      "Fetching 1 month data for ticker GOOGL: 2019-03-26 23:30:13.128953 - 2024-03-24 23:30:13.128953\n"
     ]
    }
   ],
   "source": [
    "# GOOGLE\n",
    "GOOGLE_timeframe_dfs={}\n",
    "\n",
    "GOOGLE_timeframes=['30min', '1h', '2h', '4h', '8h', '12h', '1D', '2D', '3D', '1W', '2W', '1MS', '3MS', '1YS']\n",
    "\n",
    "GOOGLE_timeframe_dfs['30min']=fetcher.fetch_data('GOOGL', 'minute', 30)\n",
    "GOOGLE_timeframe_dfs['4h']=fetcher.fetch_data('GOOGL', 'hour', 4)\n",
    "GOOGLE_timeframe_dfs['1D']=fetcher.fetch_data('GOOGL', 'day', 30)\n",
    "GOOGLE_timeframe_dfs['1W']=fetcher.fetch_data('GOOGL', 'week', 1)\n",
    "GOOGLE_timeframe_dfs['1MS']=fetcher.fetch_data('GOOGL', 'month', 1)"
   ]
  },
  {
   "cell_type": "code",
   "execution_count": 5,
   "metadata": {},
   "outputs": [
    {
     "data": {
      "text/html": [
       "<div>\n",
       "<style scoped>\n",
       "    .dataframe tbody tr th:only-of-type {\n",
       "        vertical-align: middle;\n",
       "    }\n",
       "\n",
       "    .dataframe tbody tr th {\n",
       "        vertical-align: top;\n",
       "    }\n",
       "\n",
       "    .dataframe thead th {\n",
       "        text-align: right;\n",
       "    }\n",
       "</style>\n",
       "<table border=\"1\" class=\"dataframe\">\n",
       "  <thead>\n",
       "    <tr style=\"text-align: right;\">\n",
       "      <th></th>\n",
       "      <th>volume</th>\n",
       "      <th>vw</th>\n",
       "      <th>open</th>\n",
       "      <th>close</th>\n",
       "      <th>high</th>\n",
       "      <th>low</th>\n",
       "      <th>n</th>\n",
       "    </tr>\n",
       "    <tr>\n",
       "      <th>timestamp</th>\n",
       "      <th></th>\n",
       "      <th></th>\n",
       "      <th></th>\n",
       "      <th></th>\n",
       "      <th></th>\n",
       "      <th></th>\n",
       "      <th></th>\n",
       "    </tr>\n",
       "  </thead>\n",
       "  <tbody>\n",
       "    <tr>\n",
       "      <th>2019-03-26 04:00:00</th>\n",
       "      <td>493656260.0</td>\n",
       "      <td>60.7519</td>\n",
       "      <td>60.2595</td>\n",
       "      <td>63.0025</td>\n",
       "      <td>63.7215</td>\n",
       "      <td>58.1715</td>\n",
       "      <td>627041</td>\n",
       "    </tr>\n",
       "    <tr>\n",
       "      <th>2019-04-25 04:00:00</th>\n",
       "      <td>899887780.0</td>\n",
       "      <td>59.1755</td>\n",
       "      <td>63.5150</td>\n",
       "      <td>56.9305</td>\n",
       "      <td>64.8488</td>\n",
       "      <td>56.0700</td>\n",
       "      <td>1193099</td>\n",
       "    </tr>\n",
       "    <tr>\n",
       "      <th>2019-05-25 04:00:00</th>\n",
       "      <td>670980420.0</td>\n",
       "      <td>54.0639</td>\n",
       "      <td>57.0740</td>\n",
       "      <td>56.2685</td>\n",
       "      <td>57.8245</td>\n",
       "      <td>51.3515</td>\n",
       "      <td>810815</td>\n",
       "    </tr>\n",
       "    <tr>\n",
       "      <th>2019-06-24 04:00:00</th>\n",
       "      <td>550420260.0</td>\n",
       "      <td>56.0499</td>\n",
       "      <td>56.0000</td>\n",
       "      <td>57.4025</td>\n",
       "      <td>57.9290</td>\n",
       "      <td>53.6844</td>\n",
       "      <td>680840</td>\n",
       "    </tr>\n",
       "    <tr>\n",
       "      <th>2019-07-24 04:00:00</th>\n",
       "      <td>764756480.0</td>\n",
       "      <td>59.8875</td>\n",
       "      <td>56.6310</td>\n",
       "      <td>59.5760</td>\n",
       "      <td>63.4197</td>\n",
       "      <td>56.1855</td>\n",
       "      <td>975594</td>\n",
       "    </tr>\n",
       "  </tbody>\n",
       "</table>\n",
       "</div>"
      ],
      "text/plain": [
       "                          volume       vw     open    close     high      low  \\\n",
       "timestamp                                                                       \n",
       "2019-03-26 04:00:00  493656260.0  60.7519  60.2595  63.0025  63.7215  58.1715   \n",
       "2019-04-25 04:00:00  899887780.0  59.1755  63.5150  56.9305  64.8488  56.0700   \n",
       "2019-05-25 04:00:00  670980420.0  54.0639  57.0740  56.2685  57.8245  51.3515   \n",
       "2019-06-24 04:00:00  550420260.0  56.0499  56.0000  57.4025  57.9290  53.6844   \n",
       "2019-07-24 04:00:00  764756480.0  59.8875  56.6310  59.5760  63.4197  56.1855   \n",
       "\n",
       "                           n  \n",
       "timestamp                     \n",
       "2019-03-26 04:00:00   627041  \n",
       "2019-04-25 04:00:00  1193099  \n",
       "2019-05-25 04:00:00   810815  \n",
       "2019-06-24 04:00:00   680840  \n",
       "2019-07-24 04:00:00   975594  "
      ]
     },
     "execution_count": 5,
     "metadata": {},
     "output_type": "execute_result"
    }
   ],
   "source": [
    "GOOGLE_timeframe_dfs['1D'].head()"
   ]
  },
  {
   "cell_type": "code",
   "execution_count": 6,
   "metadata": {},
   "outputs": [
    {
     "name": "stdout",
     "output_type": "stream",
     "text": [
      "Fetching 30 minute data for ticker X:BTCUSD: 2024-02-19 06:10:13.610566 - 2024-03-24 23:30:13.610566\n",
      "Fetching 30 minute data for ticker X:BTCUSD: 2024-01-15 12:49:13.610566 - 2024-02-19 06:09:13.610566\n",
      "Fetching 30 minute data for ticker X:BTCUSD: 2023-12-11 19:28:13.610566 - 2024-01-15 12:48:13.610566\n",
      "Fetching 4 hour data for ticker X:BTCUSD: 2024-02-19 06:10:16.813435 - 2024-03-24 23:30:16.813435\n",
      "Fetching 4 hour data for ticker X:BTCUSD: 2024-01-15 12:49:16.813435 - 2024-02-19 06:09:16.813435\n",
      "Fetching 4 hour data for ticker X:BTCUSD: 2023-12-11 19:28:16.813435 - 2024-01-15 12:48:16.813435\n",
      "Fetching 30 day data for ticker X:BTCUSD: 2019-03-26 23:30:19.410073 - 2024-03-24 23:30:19.410073\n",
      "Fetching 1 week data for ticker X:BTCUSD: 2019-03-26 23:30:19.690317 - 2024-03-24 23:30:19.690317\n",
      "Fetching 1 month data for ticker X:BTCUSD: 2019-03-26 23:30:19.933705 - 2024-03-24 23:30:19.933705\n"
     ]
    }
   ],
   "source": [
    "# Bitcoin\n",
    "\n",
    "BITCOIN_timeframe_dfs={}\n",
    "\n",
    "BITCOIN_timeframes=['30min', '1h', '2h', '4h', '8h', '12h', '1D', '2D', '3D', '1W', '2W', '1MS', '3MS', '1YS']\n",
    "\n",
    "BITCOIN_timeframe_dfs['30min']=fetcher.fetch_data('X:BTCUSD', 'minute', 30)\n",
    "BITCOIN_timeframe_dfs['4h']=fetcher.fetch_data('X:BTCUSD', 'hour', 4)\n",
    "BITCOIN_timeframe_dfs['1D']=fetcher.fetch_data('X:BTCUSD', 'day', 30)\n",
    "BITCOIN_timeframe_dfs['1W']=fetcher.fetch_data('X:BTCUSD', 'week', 1)\n",
    "BITCOIN_timeframe_dfs['1MS']=fetcher.fetch_data('X:BTCUSD', 'month', 1)"
   ]
  },
  {
   "cell_type": "code",
   "execution_count": 7,
   "metadata": {},
   "outputs": [
    {
     "data": {
      "text/html": [
       "<div>\n",
       "<style scoped>\n",
       "    .dataframe tbody tr th:only-of-type {\n",
       "        vertical-align: middle;\n",
       "    }\n",
       "\n",
       "    .dataframe tbody tr th {\n",
       "        vertical-align: top;\n",
       "    }\n",
       "\n",
       "    .dataframe thead th {\n",
       "        text-align: right;\n",
       "    }\n",
       "</style>\n",
       "<table border=\"1\" class=\"dataframe\">\n",
       "  <thead>\n",
       "    <tr style=\"text-align: right;\">\n",
       "      <th></th>\n",
       "      <th>volume</th>\n",
       "      <th>vw</th>\n",
       "      <th>open</th>\n",
       "      <th>close</th>\n",
       "      <th>high</th>\n",
       "      <th>low</th>\n",
       "      <th>n</th>\n",
       "    </tr>\n",
       "    <tr>\n",
       "      <th>timestamp</th>\n",
       "      <th></th>\n",
       "      <th></th>\n",
       "      <th></th>\n",
       "      <th></th>\n",
       "      <th></th>\n",
       "      <th></th>\n",
       "      <th></th>\n",
       "    </tr>\n",
       "  </thead>\n",
       "  <tbody>\n",
       "    <tr>\n",
       "      <th>2019-03-26</th>\n",
       "      <td>1.923197e+06</td>\n",
       "      <td>4996.5294</td>\n",
       "      <td>3970.00</td>\n",
       "      <td>5409.82</td>\n",
       "      <td>5690.00</td>\n",
       "      <td>3879.50</td>\n",
       "      <td>8646377</td>\n",
       "    </tr>\n",
       "    <tr>\n",
       "      <th>2019-04-25</th>\n",
       "      <td>2.242530e+06</td>\n",
       "      <td>6895.2887</td>\n",
       "      <td>5440.95</td>\n",
       "      <td>7965.00</td>\n",
       "      <td>8390.95</td>\n",
       "      <td>4357.10</td>\n",
       "      <td>10778843</td>\n",
       "    </tr>\n",
       "    <tr>\n",
       "      <th>2019-05-25</th>\n",
       "      <td>1.976373e+06</td>\n",
       "      <td>8707.3031</td>\n",
       "      <td>7962.72</td>\n",
       "      <td>10814.10</td>\n",
       "      <td>11380.94</td>\n",
       "      <td>7425.00</td>\n",
       "      <td>10107529</td>\n",
       "    </tr>\n",
       "    <tr>\n",
       "      <th>2019-06-24</th>\n",
       "      <td>3.048657e+06</td>\n",
       "      <td>11190.6522</td>\n",
       "      <td>10833.00</td>\n",
       "      <td>9840.60</td>\n",
       "      <td>13973.50</td>\n",
       "      <td>9049.54</td>\n",
       "      <td>15640673</td>\n",
       "    </tr>\n",
       "    <tr>\n",
       "      <th>2019-07-24</th>\n",
       "      <td>1.791296e+06</td>\n",
       "      <td>10591.0287</td>\n",
       "      <td>9848.90</td>\n",
       "      <td>10102.50</td>\n",
       "      <td>12340.00</td>\n",
       "      <td>9101.40</td>\n",
       "      <td>6009541</td>\n",
       "    </tr>\n",
       "  </tbody>\n",
       "</table>\n",
       "</div>"
      ],
      "text/plain": [
       "                  volume          vw      open     close      high      low  \\\n",
       "timestamp                                                                     \n",
       "2019-03-26  1.923197e+06   4996.5294   3970.00   5409.82   5690.00  3879.50   \n",
       "2019-04-25  2.242530e+06   6895.2887   5440.95   7965.00   8390.95  4357.10   \n",
       "2019-05-25  1.976373e+06   8707.3031   7962.72  10814.10  11380.94  7425.00   \n",
       "2019-06-24  3.048657e+06  11190.6522  10833.00   9840.60  13973.50  9049.54   \n",
       "2019-07-24  1.791296e+06  10591.0287   9848.90  10102.50  12340.00  9101.40   \n",
       "\n",
       "                   n  \n",
       "timestamp             \n",
       "2019-03-26   8646377  \n",
       "2019-04-25  10778843  \n",
       "2019-05-25  10107529  \n",
       "2019-06-24  15640673  \n",
       "2019-07-24   6009541  "
      ]
     },
     "execution_count": 7,
     "metadata": {},
     "output_type": "execute_result"
    }
   ],
   "source": [
    "BITCOIN_timeframe_dfs['1D'].head()"
   ]
  },
  {
   "cell_type": "markdown",
   "metadata": {},
   "source": [
    "# Framework"
   ]
  },
  {
   "cell_type": "markdown",
   "metadata": {},
   "source": [
    "## Define Trading Framework, Define Bias, Active, and Confirmation Timeframes"
   ]
  },
  {
   "cell_type": "code",
   "execution_count": 8,
   "metadata": {},
   "outputs": [],
   "source": [
    "framework_google = TradingFramework(\n",
    "    name=\"MyTradingFramework\",\n",
    "    timeframes={},  \n",
    "    active_time_frame=\"1D\",\n",
    "    bias_timeframes=[\"1W\", \"1MS\"],\n",
    "    confirmation_timeframes=[\"30min\", \"4h\"]\n",
    ")\n",
    "\n",
    "framework_bitcoin = TradingFramework(\n",
    "    name=\"MyTradingFramework\",\n",
    "    timeframes={},  # This will be populated next\n",
    "    active_time_frame=\"1D\",\n",
    "    bias_timeframes=[\"1W\", \"1MS\"],\n",
    "    confirmation_timeframes=[\"30min\", \"4h\"]\n",
    ")"
   ]
  },
  {
   "cell_type": "markdown",
   "metadata": {},
   "source": [
    "## Add Frameworks to Respective Watchlist Tickers"
   ]
  },
  {
   "cell_type": "code",
   "execution_count": 9,
   "metadata": {},
   "outputs": [],
   "source": [
    "watchlist.items['GOOGL'].framework = framework_google"
   ]
  },
  {
   "cell_type": "code",
   "execution_count": 10,
   "metadata": {},
   "outputs": [],
   "source": [
    "watchlist.items['X:BTCUSD'].framework = framework_bitcoin"
   ]
  },
  {
   "cell_type": "code",
   "execution_count": 11,
   "metadata": {},
   "outputs": [
    {
     "name": "stdout",
     "output_type": "stream",
     "text": [
      "Google (GOOGL) - Stock: Current Price: 150.66, Framework Overall Status: None, Backtest P&L%: None\n",
      "Bitcoin (X:BTCUSD) - Crypto: Current Price: 66773.97, Framework Overall Status: None, Backtest P&L%: None\n"
     ]
    }
   ],
   "source": [
    "watchlist.show()"
   ]
  },
  {
   "cell_type": "markdown",
   "metadata": {},
   "source": [
    "## Assign Timeframes to Strategy with Data"
   ]
  },
  {
   "cell_type": "markdown",
   "metadata": {},
   "source": [
    "## Define Frameworks for Each, Add Timeframes, and Link to Watchlist"
   ]
  },
  {
   "cell_type": "code",
   "execution_count": 12,
   "metadata": {},
   "outputs": [],
   "source": [
    "# The User Interface Forms would be used to get this information... For not, hard code this\n",
    "\n",
    "# Example timeframes and corresponding data\n",
    "timeframes = ['30min', '4h', '1D', '1W', '1MS']\n",
    "\n",
    "# Indicator parameters\n",
    "ichimoku_params = {}  # Use default parameters\n",
    "bbands_params = {'length': 20, 'std': 2}\n",
    "moving_average_params = {'length': 50, 'matype': 0}\n",
    "macd_params = {'fast': 12, 'slow': 26, 'signal': 9}\n",
    "rsi_params = {'length': 14}\n",
    "ema_params = {'length': 50}\n",
    "adx_params = {}\n",
    "stochastic_params = {'k': 14, 'd': 3}\n",
    "\n",
    "# Add Google TimeFrames\n",
    "for tf in timeframes:\n",
    "    strategy_for_tf = ta.Strategy(\n",
    "        name=f'{tf} Comprehensive Strategy',\n",
    "        description=f'Strategy with MA, MACD, RSI, Ichimoku, and BBANDS for {tf}',\n",
    "        ta=[\n",
    "            {'kind': 'sma', **moving_average_params},\n",
    "            {'kind': 'macd', **macd_params},\n",
    "            {'kind': 'rsi', **rsi_params},\n",
    "            {'kind': 'ichimoku', **ichimoku_params},\n",
    "            {'kind': 'bbands', **bbands_params},\n",
    "            {'kind': 'ema', **ema_params},\n",
    "            {'kind': 'adx'},\n",
    "            {'kind': 'stoch', **stochastic_params}\n",
    "        ]\n",
    "    )\n",
    "    \n",
    "    # Add the timeframe, its data, and apply the strategy\n",
    "    framework_google.add_timeframe(name=tf, data=GOOGLE_timeframe_dfs[tf], strategy=strategy_for_tf)\n",
    "\n",
    "# Add Bitcoin TimeFrames\n",
    "for tf in timeframes:\n",
    "    strategy_for_tf = ta.Strategy(\n",
    "        name=f'{tf} Comprehensive Strategy',\n",
    "        description=f'Strategy with MA, MACD, RSI, Ichimoku, and BBANDS for {tf}',\n",
    "        ta=[\n",
    "            {'kind': 'sma', **moving_average_params},\n",
    "            {'kind': 'macd', **macd_params},\n",
    "            {'kind': 'rsi', **rsi_params},\n",
    "            {'kind': 'ichimoku', **ichimoku_params},\n",
    "            {'kind': 'bbands', **bbands_params},\n",
    "            {'kind': 'ema', **ema_params},\n",
    "            {'kind': 'adx'},\n",
    "            {'kind': 'stoch', **stochastic_params}\n",
    "        ]\n",
    "    )\n",
    "    \n",
    "    framework_bitcoin.add_timeframe(name=tf, data=BITCOIN_timeframe_dfs[tf], strategy=strategy_for_tf)"
   ]
  },
  {
   "cell_type": "markdown",
   "metadata": {},
   "source": [
    "## Create Signal Groups and Signals"
   ]
  },
  {
   "cell_type": "code",
   "execution_count": 13,
   "metadata": {},
   "outputs": [],
   "source": [
    "def evaluate_ichimoku(df):\n",
    "    return generate_signal_score(df, 'close', 'ISA_9', inverted=True)\n",
    "\n",
    "def evaluate_bbands(df):\n",
    "    return generate_signal_score(df, 'close', 'BBU_5_2.0', 'BBL_5_2.0')\n",
    "\n",
    "def evaluate_sma(df):\n",
    "    return generate_signal_score(df, 'close', 'SMA_10')\n",
    "\n",
    "def evaluate_rsi(df):\n",
    "    return generate_signal_score(df, 'RSI_14', threshold_up=50, threshold_down=30)\n",
    "\n",
    "def evaluate_macd(df):\n",
    "    return generate_signal_score(df, 'MACD_12_26_9', 'MACDs_12_26_9')\n",
    "\n",
    "def evaluate_ema(df):\n",
    "    return generate_signal_score(df, 'close', 'EMA_10')\n",
    "\n",
    "def evaluate_adi(df):\n",
    "    adi_value = df['ADX_14'].iloc[-1]\n",
    "    if adi_value > 25:\n",
    "        return 'positive'\n",
    "    elif adi_value < 20:\n",
    "        return 'negative'\n",
    "    else:\n",
    "        return 'neutral'\n",
    "\n",
    "def evaluate_stochastic(df):\n",
    "    return generate_signal_score(df, 'STOCHk_14_3_3', threshold_up=80, threshold_down=20, inverted=True)\n",
    "\n",
    "# Instantiate the signal groups\n",
    "trend_signal_group = SignalGroup('Trend')\n",
    "momentum_signal_group = SignalGroup('Momentum')\n",
    "price_structure_signal_group = SignalGroup('Price Structure')\n",
    "\n",
    "# Add signals to their respective signal groups\n",
    "trend_signals = [Signal('Ichimoku Trend', evaluate_ichimoku, chart=True, subplot=False), Signal('SMA Trend', evaluate_sma, chart=True, subplot=False), Signal('EMA Trend', evaluate_ema, chart=True, subplot=False), Signal('ADI Trend', evaluate_adi, chart=True, subplot=True)]\n",
    "momentum_signals = [Signal('RSI Momentum', evaluate_rsi, chart=True, subplot=False), Signal('MACD Momentum', evaluate_macd, chart=True, subplot=False), Signal('Stochastic Momentum', evaluate_stochastic, chart=True, subplot=True)]\n",
    "price_structure_signals = [Signal('BBands Structure', evaluate_bbands, chart=True, subplot=False)]\n",
    "\n",
    "for signal in trend_signals:\n",
    "    trend_signal_group.add_signal(signal)\n",
    "\n",
    "for signal in momentum_signals:\n",
    "    momentum_signal_group.add_signal(signal)\n",
    "\n",
    "for signal in price_structure_signals:\n",
    "    price_structure_signal_group.add_signal(signal)"
   ]
  },
  {
   "cell_type": "markdown",
   "metadata": {},
   "source": [
    "## Apply strategies to each timeframe and add signal groups"
   ]
  },
  {
   "cell_type": "code",
   "execution_count": 14,
   "metadata": {},
   "outputs": [],
   "source": [
    "timeframes = ['30min', '4h', '1D', '1W', '1MS']\n",
    "for tf in timeframes:\n",
    "    framework_google.add_signal_group_to_timeframe(tf, trend_signal_group)\n",
    "    framework_bitcoin.add_signal_group_to_timeframe(tf, trend_signal_group)\n",
    "    framework_google.add_signal_group_to_timeframe(tf, momentum_signal_group)\n",
    "    framework_bitcoin.add_signal_group_to_timeframe(tf, momentum_signal_group)\n",
    "    framework_google.add_signal_group_to_timeframe(tf, price_structure_signal_group)\n",
    "    framework_bitcoin.add_signal_group_to_timeframe(tf, price_structure_signal_group)"
   ]
  },
  {
   "cell_type": "markdown",
   "metadata": {},
   "source": [
    "## Evaluate Timeframes and Overall Status"
   ]
  },
  {
   "cell_type": "code",
   "execution_count": 15,
   "metadata": {},
   "outputs": [
    {
     "name": "stdout",
     "output_type": "stream",
     "text": [
      "Evaluating frameworks for all watchlist items...\n",
      "Evaluating framework for GOOGL\n",
      "Timeframe Statuses: {'30min': {'Trend': {'Ichimoku Trend': 'positive', 'SMA Trend': 'neutral', 'EMA Trend': 'neutral', 'ADI Trend': 'negative', 'Overall': 'neutral'}, 'Momentum': {'RSI Momentum': 'positive', 'MACD Momentum': 'negative', 'Stochastic Momentum': 'negative', 'Overall': 'negative'}, 'Price Structure': {'BBands Structure': 'neutral', 'Overall': 'neutral'}, 'Overall': 'neutral'}, '4h': {'Trend': {'Ichimoku Trend': 'positive', 'SMA Trend': 'neutral', 'EMA Trend': 'neutral', 'ADI Trend': 'positive', 'Overall': 'positive'}, 'Momentum': {'RSI Momentum': 'positive', 'MACD Momentum': 'negative', 'Stochastic Momentum': 'positive', 'Overall': 'positive'}, 'Price Structure': {'BBands Structure': 'neutral', 'Overall': 'neutral'}, 'Overall': 'positive'}, '1D': {'Trend': {'Ichimoku Trend': 'positive', 'SMA Trend': 'neutral', 'EMA Trend': 'neutral', 'ADI Trend': 'positive', 'Overall': 'positive'}, 'Momentum': {'RSI Momentum': 'positive', 'MACD Momentum': 'positive', 'Stochastic Momentum': 'positive', 'Overall': 'positive'}, 'Price Structure': {'BBands Structure': 'neutral', 'Overall': 'neutral'}, 'Overall': 'positive'}, '1W': {'Trend': {'Ichimoku Trend': 'positive', 'SMA Trend': 'neutral', 'EMA Trend': 'neutral', 'ADI Trend': 'negative', 'Overall': 'neutral'}, 'Momentum': {'RSI Momentum': 'positive', 'MACD Momentum': 'negative', 'Stochastic Momentum': 'negative', 'Overall': 'negative'}, 'Price Structure': {'BBands Structure': 'neutral', 'Overall': 'neutral'}, 'Overall': 'neutral'}, '1MS': {'Trend': {'Ichimoku Trend': 'positive', 'SMA Trend': 'neutral', 'EMA Trend': 'neutral', 'ADI Trend': 'positive', 'Overall': 'positive'}, 'Momentum': {'RSI Momentum': 'positive', 'MACD Momentum': 'positive', 'Stochastic Momentum': 'positive', 'Overall': 'positive'}, 'Price Structure': {'BBands Structure': 'neutral', 'Overall': 'neutral'}, 'Overall': 'positive'}}\n",
      "Overall Trading Status: positive\n",
      "Evaluating framework for X:BTCUSD\n",
      "Timeframe Statuses: {'30min': {'Trend': {'Ichimoku Trend': 'positive', 'SMA Trend': 'neutral', 'EMA Trend': 'neutral', 'ADI Trend': 'positive', 'Overall': 'positive'}, 'Momentum': {'RSI Momentum': 'positive', 'MACD Momentum': 'positive', 'Stochastic Momentum': 'negative', 'Overall': 'positive'}, 'Price Structure': {'BBands Structure': 'neutral', 'Overall': 'neutral'}, 'Overall': 'positive'}, '4h': {'Trend': {'Ichimoku Trend': 'positive', 'SMA Trend': 'neutral', 'EMA Trend': 'neutral', 'ADI Trend': 'negative', 'Overall': 'neutral'}, 'Momentum': {'RSI Momentum': 'positive', 'MACD Momentum': 'positive', 'Stochastic Momentum': 'positive', 'Overall': 'positive'}, 'Price Structure': {'BBands Structure': 'neutral', 'Overall': 'neutral'}, 'Overall': 'neutral'}, '1D': {'Trend': {'Ichimoku Trend': 'positive', 'SMA Trend': 'neutral', 'EMA Trend': 'neutral', 'ADI Trend': 'neutral', 'Overall': 'positive'}, 'Momentum': {'RSI Momentum': 'positive', 'MACD Momentum': 'positive', 'Stochastic Momentum': 'positive', 'Overall': 'positive'}, 'Price Structure': {'BBands Structure': 'neutral', 'Overall': 'neutral'}, 'Overall': 'positive'}, '1W': {'Trend': {'Ichimoku Trend': 'positive', 'SMA Trend': 'neutral', 'EMA Trend': 'neutral', 'ADI Trend': 'positive', 'Overall': 'positive'}, 'Momentum': {'RSI Momentum': 'positive', 'MACD Momentum': 'positive', 'Stochastic Momentum': 'negative', 'Overall': 'positive'}, 'Price Structure': {'BBands Structure': 'neutral', 'Overall': 'neutral'}, 'Overall': 'positive'}, '1MS': {'Trend': {'Ichimoku Trend': 'positive', 'SMA Trend': 'neutral', 'EMA Trend': 'neutral', 'ADI Trend': 'neutral', 'Overall': 'positive'}, 'Momentum': {'RSI Momentum': 'positive', 'MACD Momentum': 'positive', 'Stochastic Momentum': 'positive', 'Overall': 'positive'}, 'Price Structure': {'BBands Structure': 'neutral', 'Overall': 'neutral'}, 'Overall': 'positive'}}\n",
      "Overall Trading Status: positive\n"
     ]
    }
   ],
   "source": [
    "watchlist.evaluate_frameworks()"
   ]
  },
  {
   "cell_type": "code",
   "execution_count": 16,
   "metadata": {},
   "outputs": [
    {
     "name": "stdout",
     "output_type": "stream",
     "text": [
      "Google (GOOGL) - Stock: Current Price: 150.66, Framework Overall Status: positive, Backtest P&L%: None\n",
      "Bitcoin (X:BTCUSD) - Crypto: Current Price: 66773.97, Framework Overall Status: positive, Backtest P&L%: None\n"
     ]
    }
   ],
   "source": [
    "watchlist.show()"
   ]
  },
  {
   "cell_type": "code",
   "execution_count": 17,
   "metadata": {},
   "outputs": [],
   "source": [
    "google_statuses = watchlist.items['GOOGL'].framework_results['timeframe_statuses']\n",
    "google_overall_status = watchlist.items['GOOGL'].framework_results['overall_status']"
   ]
  },
  {
   "cell_type": "code",
   "execution_count": 18,
   "metadata": {},
   "outputs": [
    {
     "data": {
      "text/html": [
       "<div>\n",
       "<style scoped>\n",
       "    .dataframe tbody tr th:only-of-type {\n",
       "        vertical-align: middle;\n",
       "    }\n",
       "\n",
       "    .dataframe tbody tr th {\n",
       "        vertical-align: top;\n",
       "    }\n",
       "\n",
       "    .dataframe thead th {\n",
       "        text-align: right;\n",
       "    }\n",
       "</style>\n",
       "<table border=\"1\" class=\"dataframe\">\n",
       "  <thead>\n",
       "    <tr style=\"text-align: right;\">\n",
       "      <th></th>\n",
       "      <th>Trend</th>\n",
       "      <th>Momentum</th>\n",
       "      <th>Price Structure</th>\n",
       "    </tr>\n",
       "  </thead>\n",
       "  <tbody>\n",
       "    <tr>\n",
       "      <th>30min</th>\n",
       "      <td>neutral</td>\n",
       "      <td>negative</td>\n",
       "      <td>neutral</td>\n",
       "    </tr>\n",
       "    <tr>\n",
       "      <th>4h</th>\n",
       "      <td>positive</td>\n",
       "      <td>positive</td>\n",
       "      <td>neutral</td>\n",
       "    </tr>\n",
       "    <tr>\n",
       "      <th>1D</th>\n",
       "      <td>positive</td>\n",
       "      <td>positive</td>\n",
       "      <td>neutral</td>\n",
       "    </tr>\n",
       "    <tr>\n",
       "      <th>1W</th>\n",
       "      <td>neutral</td>\n",
       "      <td>negative</td>\n",
       "      <td>neutral</td>\n",
       "    </tr>\n",
       "    <tr>\n",
       "      <th>1MS</th>\n",
       "      <td>positive</td>\n",
       "      <td>positive</td>\n",
       "      <td>neutral</td>\n",
       "    </tr>\n",
       "  </tbody>\n",
       "</table>\n",
       "</div>"
      ],
      "text/plain": [
       "          Trend  Momentum Price Structure\n",
       "30min   neutral  negative         neutral\n",
       "4h     positive  positive         neutral\n",
       "1D     positive  positive         neutral\n",
       "1W      neutral  negative         neutral\n",
       "1MS    positive  positive         neutral"
      ]
     },
     "execution_count": 18,
     "metadata": {},
     "output_type": "execute_result"
    }
   ],
   "source": [
    "timeframes = list(google_statuses.keys())\n",
    "signal_groups = list(google_statuses[timeframes[0]].keys())[:-1] \n",
    "\n",
    "google_overall_signals = {signal_group: [] for signal_group in signal_groups}\n",
    "index = []\n",
    "\n",
    "for timeframe, status in google_statuses.items():\n",
    "    index.append(timeframe)\n",
    "    for signal_group in signal_groups:\n",
    "        google_overall_signals[signal_group].append(status[signal_group]['Overall'])\n",
    "\n",
    "google_overall_signals = pd.DataFrame(google_overall_signals, index=index)\n",
    "google_overall_signals\n"
   ]
  },
  {
   "cell_type": "code",
   "execution_count": 19,
   "metadata": {},
   "outputs": [],
   "source": [
    "bitcoin_statuses = watchlist.items['X:BTCUSD'].framework_results['timeframe_statuses']\n",
    "bitcoin_overall_status = watchlist.items['X:BTCUSD'].framework_results['overall_status']"
   ]
  },
  {
   "cell_type": "code",
   "execution_count": 20,
   "metadata": {},
   "outputs": [
    {
     "data": {
      "text/html": [
       "<div>\n",
       "<style scoped>\n",
       "    .dataframe tbody tr th:only-of-type {\n",
       "        vertical-align: middle;\n",
       "    }\n",
       "\n",
       "    .dataframe tbody tr th {\n",
       "        vertical-align: top;\n",
       "    }\n",
       "\n",
       "    .dataframe thead th {\n",
       "        text-align: right;\n",
       "    }\n",
       "</style>\n",
       "<table border=\"1\" class=\"dataframe\">\n",
       "  <thead>\n",
       "    <tr style=\"text-align: right;\">\n",
       "      <th></th>\n",
       "      <th>Trend</th>\n",
       "      <th>Momentum</th>\n",
       "      <th>Price Structure</th>\n",
       "    </tr>\n",
       "  </thead>\n",
       "  <tbody>\n",
       "    <tr>\n",
       "      <th>30min</th>\n",
       "      <td>positive</td>\n",
       "      <td>positive</td>\n",
       "      <td>neutral</td>\n",
       "    </tr>\n",
       "    <tr>\n",
       "      <th>4h</th>\n",
       "      <td>neutral</td>\n",
       "      <td>positive</td>\n",
       "      <td>neutral</td>\n",
       "    </tr>\n",
       "    <tr>\n",
       "      <th>1D</th>\n",
       "      <td>positive</td>\n",
       "      <td>positive</td>\n",
       "      <td>neutral</td>\n",
       "    </tr>\n",
       "    <tr>\n",
       "      <th>1W</th>\n",
       "      <td>positive</td>\n",
       "      <td>positive</td>\n",
       "      <td>neutral</td>\n",
       "    </tr>\n",
       "    <tr>\n",
       "      <th>1MS</th>\n",
       "      <td>positive</td>\n",
       "      <td>positive</td>\n",
       "      <td>neutral</td>\n",
       "    </tr>\n",
       "  </tbody>\n",
       "</table>\n",
       "</div>"
      ],
      "text/plain": [
       "          Trend  Momentum Price Structure\n",
       "30min  positive  positive         neutral\n",
       "4h      neutral  positive         neutral\n",
       "1D     positive  positive         neutral\n",
       "1W     positive  positive         neutral\n",
       "1MS    positive  positive         neutral"
      ]
     },
     "execution_count": 20,
     "metadata": {},
     "output_type": "execute_result"
    }
   ],
   "source": [
    "timeframes = list(bitcoin_statuses.keys())\n",
    "signal_groups = list(bitcoin_statuses[timeframes[0]].keys())[:-1] \n",
    "\n",
    "bitcoin_overall_signals = {signal_group: [] for signal_group in signal_groups}\n",
    "index = []\n",
    "\n",
    "for timeframe, status in bitcoin_statuses.items():\n",
    "    index.append(timeframe)\n",
    "    for signal_group in signal_groups:\n",
    "        bitcoin_overall_signals[signal_group].append(status[signal_group]['Overall'])\n",
    "\n",
    "bitcoin_overall_signals = pd.DataFrame(bitcoin_overall_signals, index=index)\n",
    "bitcoin_overall_signals\n"
   ]
  },
  {
   "cell_type": "code",
   "execution_count": 21,
   "metadata": {},
   "outputs": [
    {
     "name": "stdout",
     "output_type": "stream",
     "text": [
      "positive\n"
     ]
    }
   ],
   "source": [
    "print(bitcoin_overall_status)"
   ]
  },
  {
   "cell_type": "markdown",
   "metadata": {},
   "source": [
    "# Backtesting"
   ]
  },
  {
   "cell_type": "code",
   "execution_count": 22,
   "metadata": {},
   "outputs": [
    {
     "name": "stdout",
     "output_type": "stream",
     "text": [
      "Performing backtests for all watchlist items...\n",
      "Performing backtest for GOOGL\n"
     ]
    },
    {
     "name": "stderr",
     "output_type": "stream",
     "text": [
      "c:\\Users\\langecod\\VSCode\\D7_Scanner\\Website\\backend_django\\analytics_scripts\\framework.py:207: FutureWarning: Downcasting object dtype arrays on .fillna, .ffill, .bfill is deprecated and will change in a future version. Call result.infer_objects(copy=False) instead. To opt-in to the future behavior, set `pd.set_option('future.no_silent_downcasting', True)`\n",
      "  portfolio = vbt.Portfolio.from_signals(close_prices, signals['buy'].fillna(False), signals['sell'].fillna(False), init_cash=initial_capital)\n"
     ]
    },
    {
     "name": "stdout",
     "output_type": "stream",
     "text": [
      "Backtest completed for GOOGL\n",
      "Performing backtest for X:BTCUSD\n",
      "Backtest completed for X:BTCUSD\n"
     ]
    },
    {
     "name": "stderr",
     "output_type": "stream",
     "text": [
      "c:\\Users\\langecod\\VSCode\\D7_Scanner\\Website\\backend_django\\analytics_scripts\\framework.py:207: FutureWarning: Downcasting object dtype arrays on .fillna, .ffill, .bfill is deprecated and will change in a future version. Call result.infer_objects(copy=False) instead. To opt-in to the future behavior, set `pd.set_option('future.no_silent_downcasting', True)`\n",
      "  portfolio = vbt.Portfolio.from_signals(close_prices, signals['buy'].fillna(False), signals['sell'].fillna(False), init_cash=initial_capital)\n"
     ]
    }
   ],
   "source": [
    "# Perform backtests for all items in the watchlist\n",
    "watchlist.perform_backtests(initial_capital=10000)"
   ]
  },
  {
   "cell_type": "code",
   "execution_count": 23,
   "metadata": {},
   "outputs": [
    {
     "name": "stdout",
     "output_type": "stream",
     "text": [
      "Google (GOOGL) - Stock: Current Price: 150.66, Framework Overall Status: positive, Backtest P&L%: 11.9\n",
      "Bitcoin (X:BTCUSD) - Crypto: Current Price: 66773.97, Framework Overall Status: positive, Backtest P&L%: 53.7\n"
     ]
    }
   ],
   "source": [
    "# Display the results\n",
    "watchlist.show()\n"
   ]
  }
 ],
 "metadata": {
  "kernelspec": {
   "display_name": "d7_env",
   "language": "python",
   "name": "python3"
  },
  "language_info": {
   "codemirror_mode": {
    "name": "ipython",
    "version": 3
   },
   "file_extension": ".py",
   "mimetype": "text/x-python",
   "name": "python",
   "nbconvert_exporter": "python",
   "pygments_lexer": "ipython3",
   "version": "3.9.5"
  }
 },
 "nbformat": 4,
 "nbformat_minor": 2
}
